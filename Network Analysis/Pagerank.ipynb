{
 "cells": [
  {
   "cell_type": "code",
   "execution_count": 4,
   "metadata": {},
   "outputs": [],
   "source": [
    "import numpy as np\n",
    "import pandas as pd"
   ]
  },
  {
   "cell_type": "code",
   "execution_count": 8,
   "metadata": {},
   "outputs": [],
   "source": [
    "def Generate_Transfer_Matrix(G):\n",
    "    \"\"\"generate transfer matrix given graph\"\"\"\n",
    "    index2node = dict()\n",
    "    node2index = dict()\n",
    "    for index,node in enumerate(G.keys()):\n",
    "        node2index[node] = index\n",
    "        index2node[index] = node\n",
    "    # num of nodes\n",
    "    n = len(node2index)\n",
    "    # generate Transfer probability matrix M, shape of (n,n)\n",
    "    M = np.zeros([n,n])\n",
    "    for node1 in G.keys():\n",
    "        for node2 in G[node1]:\n",
    "            # FIXME: some nodes not in the Graphs.keys, may incur some errors\n",
    "            try:\n",
    "                M[node2index[node2],node2index[node1]] = 1/len(G[node1])\n",
    "            except:\n",
    "                continue\n",
    "    print(pd.DataFrame(M, index=G.keys(), columns=G.keys()))\n",
    "    return M, node2index, index2node"
   ]
  },
  {
   "cell_type": "code",
   "execution_count": 9,
   "metadata": {},
   "outputs": [],
   "source": [
    "def PageRank(M, alpha):\n",
    "    \"\"\"\n",
    "    Personal Rank in matrix formation\n",
    "    :param M: transfer probability matrix\n",
    "    :param index2node: index2node dictionary\n",
    "    :param node2index: node2index dictionary\n",
    "    :return:type of list of tuple, ex.\n",
    "    [(node1, prob1),(node2, prob2),...]\n",
    "    \"\"\"\n",
    "    result = []\n",
    "    n = len(M)\n",
    "    v = np.ones(n)\n",
    "    while np.sum(abs(v - (alpha*np.matmul(M,v) + (1-alpha)*v))) > 0.0001:\n",
    "        v = alpha * np.matmul(M, v) + (1-alpha)*v\n",
    "        for ind, prob in enumerate(v):\n",
    "            print(index2node[ind], prob)   "
   ]
  },
  {
   "cell_type": "code",
   "execution_count": 10,
   "metadata": {},
   "outputs": [
    {
     "name": "stdout",
     "output_type": "stream",
     "text": [
      "     A    B    C\n",
      "A  0.0  0.0  1.0\n",
      "B  0.5  0.0  0.0\n",
      "C  0.5  1.0  0.0\n",
      "A 1.0\n",
      "B 0.75\n",
      "C 1.25\n",
      "A 1.125\n",
      "B 0.625\n",
      "C 1.25\n",
      "A 1.1875\n",
      "B 0.59375\n",
      "C 1.21875\n",
      "A 1.203125\n",
      "B 0.59375\n",
      "C 1.203125\n",
      "A 1.203125\n",
      "B 0.59765625\n",
      "C 1.19921875\n",
      "A 1.201171875\n",
      "B 0.599609375\n",
      "C 1.19921875\n",
      "A 1.2001953125\n",
      "B 0.60009765625\n",
      "C 1.19970703125\n",
      "A 1.199951171875\n",
      "B 0.60009765625\n",
      "C 1.199951171875\n",
      "A 1.199951171875\n",
      "B 0.60003662109375\n",
      "C 1.20001220703125\n"
     ]
    }
   ],
   "source": [
    "if __name__ == '__main__':\n",
    "    alpha = 0.5\n",
    "    #root = 'A'\n",
    "    #num_iter = 100\n",
    "    #num_candidates = 10\n",
    "    G = {'A' : {'B' : 1,'C' : 1},\n",
    "         'B' : {'C' : 1},\n",
    "         'C' : {'A' : 1}\n",
    "         }\n",
    "    M, node2index, index2node = Generate_Transfer_Matrix(G)\n",
    "    # print transfer matrix\n",
    "    #print(pd.DataFrame(M, index=G.keys(), columns=G.keys()))\n",
    "    PageRank(M, alpha)"
   ]
  }
 ],
 "metadata": {
  "kernelspec": {
   "display_name": "Python 3",
   "language": "python",
   "name": "python3"
  },
  "language_info": {
   "codemirror_mode": {
    "name": "ipython",
    "version": 3
   },
   "file_extension": ".py",
   "mimetype": "text/x-python",
   "name": "python",
   "nbconvert_exporter": "python",
   "pygments_lexer": "ipython3",
   "version": "3.7.3"
  }
 },
 "nbformat": 4,
 "nbformat_minor": 2
}
